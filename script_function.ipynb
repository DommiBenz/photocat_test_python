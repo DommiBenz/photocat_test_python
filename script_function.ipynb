{
 "cells": [
  {
   "cell_type": "code",
   "execution_count": 180,
   "metadata": {},
   "outputs": [
    {
     "name": "stdout",
     "output_type": "stream",
     "text": [
      "     wavelength absorption    rest\n",
      "0         500.0      0.030   0.030\n",
      "1         501.0      0.030   0.030\n",
      "2         502.0      0.030   0.030\n",
      "3         503.0      0.030   0.030\n",
      "4         504.0      0.030   0.030\n",
      "..          ...        ...     ...\n",
      "196       696.0     -0.002    None\n",
      "197       697.0     -0.002  Valley\n",
      "198       698.0     -0.002    Peak\n",
      "199       699.0     -0.002    None\n",
      "200       700.0     -0.002    None\n",
      "\n",
      "[201 rows x 3 columns]\n"
     ]
    },
    {
     "name": "stderr",
     "output_type": "stream",
     "text": [
      "C:\\Users\\ibagemihl\\AppData\\Local\\Continuum\\anaconda3\\lib\\site-packages\\ipykernel_launcher.py:10: ParserWarning: Falling back to the 'python' engine because the 'c' engine does not support regex separators (separators > 1 char and different from '\\s+' are interpreted as regex); you can avoid this warning by specifying engine='python'.\n",
      "  # Remove the CWD from sys.path while we load stuff.\n",
      "C:\\Users\\ibagemihl\\AppData\\Local\\Continuum\\anaconda3\\lib\\site-packages\\ipykernel_launcher.py:11: SettingWithCopyWarning: \n",
      "A value is trying to be set on a copy of a slice from a DataFrame\n",
      "\n",
      "See the caveats in the documentation: http://pandas.pydata.org/pandas-docs/stable/user_guide/indexing.html#returning-a-view-versus-a-copy\n",
      "  # This is added back by InteractiveShellApp.init_path()\n"
     ]
    }
   ],
   "source": [
    "import os\n",
    "import pandas as pd\n",
    "import numpy as np\n",
    "\n",
    "def read (filepath,x):\n",
    "\n",
    "    x = str (x)\n",
    "    imp_path = os.path.join(filepath,\"ScanData_{}\".format(x)+\".csv\")\n",
    "    raw_data=pd.read_csv(imp_path, sep='[, |,]',usecols=[0,1,2,3],skiprows=10 , encoding='utf16',names=[\"wavelength\", \"absorption\",\"rest\"])\n",
    "    raw_data.absorption[np.isnan(raw_data.absorption)] = raw_data.rest[np.isnan(raw_data.absorption)]\n",
    "        \n",
    "    return raw_data\n",
    "\n",
    "def write_data2csv(filepath_raw,filepath_new,my_data,x):\n",
    "    #Data with new filenames\n",
    "    corr_path = os.join(filepath,\"Data_correlation.txt\") \n",
    "    my_corr = pd.read_csv(corr_path, sep=',', names=[\"original\", \"Sample_name\"])\n",
    "    # generate exporting path\n",
    "    exp_name = my_corr.Sample_name[my_corr.original==x].item()\n",
    "    exp_path = os.join(filepath,\"{}\".format(exp_name)+\".csv\")\n",
    "    my_data.to_csv(exp_path)\n",
    "    return (0)\n",
    "\n",
    "def Absorbtion(my_data):\n",
    "    x=my_data.absorption[my_data.wavelength==629].item()\n",
    "    return(x)\n",
    "    \n",
    "#Filepath with raw_data\n",
    "filepath_raw = r\"C:\\Casimir\\photocat_test_python\\RawData_20191023\\WLData1\"\n",
    "#Filepath with new_data\n",
    "filepath_new = r\"C:\\Casimir\\photocat_test_python\\RawData_20191023\\WLData1\"\n",
    "\n",
    "n = 20\n",
    "x = np.zeros(n)\n",
    "for i in range(n):\n",
    "    my_data = read(filepath_raw,i)\n",
    "    write_data2csv(filepath_raw,filepath_new,my_data,1)\n",
    "    x[i]=Absorption(my_data)\n",
    "    \n",
    "print(a)\n",
    "\n",
    "\n",
    "\n",
    "\n",
    "\n",
    "\n"
   ]
  },
  {
   "cell_type": "code",
   "execution_count": 169,
   "metadata": {},
   "outputs": [],
   "source": []
  },
  {
   "cell_type": "code",
   "execution_count": 174,
   "metadata": {},
   "outputs": [],
   "source": []
  },
  {
   "cell_type": "code",
   "execution_count": null,
   "metadata": {
    "scrolled": true
   },
   "outputs": [],
   "source": []
  },
  {
   "cell_type": "code",
   "execution_count": null,
   "metadata": {},
   "outputs": [],
   "source": []
  },
  {
   "cell_type": "code",
   "execution_count": null,
   "metadata": {},
   "outputs": [],
   "source": []
  },
  {
   "cell_type": "code",
   "execution_count": null,
   "metadata": {},
   "outputs": [],
   "source": [
    "\n",
    "\n"
   ]
  },
  {
   "cell_type": "code",
   "execution_count": null,
   "metadata": {},
   "outputs": [],
   "source": []
  },
  {
   "cell_type": "code",
   "execution_count": null,
   "metadata": {},
   "outputs": [],
   "source": []
  },
  {
   "cell_type": "code",
   "execution_count": null,
   "metadata": {},
   "outputs": [],
   "source": []
  },
  {
   "cell_type": "code",
   "execution_count": null,
   "metadata": {},
   "outputs": [],
   "source": []
  }
 ],
 "metadata": {
  "kernelspec": {
   "display_name": "Python 3",
   "language": "python",
   "name": "python3"
  },
  "language_info": {
   "codemirror_mode": {
    "name": "ipython",
    "version": 3
   },
   "file_extension": ".py",
   "mimetype": "text/x-python",
   "name": "python",
   "nbconvert_exporter": "python",
   "pygments_lexer": "ipython3",
   "version": "3.7.4"
  }
 },
 "nbformat": 4,
 "nbformat_minor": 2
}
