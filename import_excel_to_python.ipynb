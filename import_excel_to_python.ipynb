{
 "cells": [
  {
   "cell_type": "code",
   "execution_count": 123,
   "metadata": {},
   "outputs": [],
   "source": [
    "def rename(fn):\n",
    "    filename=fn\n",
    "    imp_path=r\"C:\\Users\\dominikbenz.DASTUD\\Surfdrive\\PhD (Photocatalysis for water treatment)\\(1) EXPERIMENTS\\Python\\photocat_test_python\\RawData_20191023\\WLData1\\{}\".format(filename)\n",
    "    import pandas as pd\n",
    "    my_data=pd.read_csv(imp_path, sep=', ', skiprows=10 , encoding='utf16', names=[\"wavelength\", \"absorption\"])\n",
    "    #print(my_data)\n",
    "        # creating a modified dataset without the annotation of a valley or peak in the dataset\n",
    "    mod_abs=[]\n",
    "    for a in my_data.absorption:\n",
    "        if ',' in a:\n",
    "            a=(a[:a.find(',')])\n",
    "        else:\n",
    "            a=a    \n",
    "        mod_abs.append(float(a)) \n",
    "    my_data.absorption=mod_abs\n",
    "\n",
    "        #plotting the absorption vs wavelenght\n",
    "    my_data.plot(x =\"wavelength\", y=\"absorption\", kind =\"scatter\")\n",
    "\n",
    "        #read in data correlation file\n",
    "    corr_path=r\"C:\\Users\\dominikbenz.DASTUD\\Surfdrive\\PhD (Photocatalysis for water treatment)\\(1) EXPERIMENTS\\Python\\photocat_test_python\\RawData_20191023\\WLData1\\Data_correlation.txt\"\n",
    "    my_corr=pd.read_csv(corr_path, sep=',', names=[\"Original\", \"Sample_name\", \"Time\"])\n",
    "    print(my_corr)\n",
    "        # generate exporting path\n",
    "    exp_name=my_corr.Sample_name[my_corr.Original==2].item()\n",
    "    print (exp_name)\n",
    "    exp_path=r\"C:\\Users\\dominikbenz.DASTUD\\Surfdrive\\PhD (Photocatalysis for water treatment)\\(1) EXPERIMENTS\\Python\\photocat_test_python\\RawData_20191023\\WLData1\\{}.csv\".format(exp_name)\n",
    "    print(exp_path)\n",
    "    my_data.to_csv(exp_path)\n",
    "    \n",
    "   \n",
    "# create empty list for Absorption vs time\n",
    "Abs_list=[]\n",
    "x=my_data.absorption[my_data.wavelength==629].item()\n",
    "Abs_list.append(x)"
   ]
  },
  {
   "cell_type": "code",
   "execution_count": 126,
   "metadata": {},
   "outputs": [
    {
     "name": "stderr",
     "output_type": "stream",
     "text": [
      "C:\\Users\\dominikbenz.DASTUD\\AppData\\Local\\Continuum\\anaconda3\\lib\\site-packages\\ipykernel_launcher.py:5: ParserWarning: Falling back to the 'python' engine because the 'c' engine does not support regex separators (separators > 1 char and different from '\\s+' are interpreted as regex); you can avoid this warning by specifying engine='python'.\n",
      "  \"\"\"\n"
     ]
    },
    {
     "name": "stdout",
     "output_type": "stream",
     "text": [
      "   original Sample_name\n",
      "0         1      DB01-7\n",
      "1         2      DB01-6\n",
      "2         3      DB01-5\n",
      "3         4      DB01-4\n",
      "4         5      DB01-3\n",
      "5         6      DB01-2\n",
      "6         7      DB01-1\n",
      "7         8      DB01-0\n",
      " DB01-6\n",
      "C:\\Users\\dominikbenz.DASTUD\\Surfdrive\\PhD (Photocatalysis for water treatment)\\(1) EXPERIMENTS\\Python\\photocat_test_python\\RawData_20191023\\WLData1\\ DB01-6.csv\n"
     ]
    },
    {
     "data": {
      "image/png": "[encoded data removed]",
      "text/plain": [
       "<Figure size 432x288 with 1 Axes>"
      ]
     },
     "metadata": {
      "needs_background": "light"
     },
     "output_type": "display_data"
    }
   ],
   "source": [
    "rename(\"ScanData_2.csv\")"
   ]
  },
  {
   "cell_type": "code",
   "execution_count": 63,
   "metadata": {},
   "outputs": [
    {
     "name": "stdout",
     "output_type": "stream",
     "text": [
      "0.533\n"
     ]
    }
   ],
   "source": [
    "#find Absorption at 629 nm\n",
    "x=my_data.absorption[my_data.wavelength==629].item()\n",
    "print(x)"
   ]
  },
  {
   "cell_type": "code",
   "execution_count": 119,
   "metadata": {},
   "outputs": [
    {
     "name": "stdout",
     "output_type": "stream",
     "text": [
      "   original Sample_name\n",
      "0         1      DB01-7\n",
      "1         2      DB01-6\n",
      "2         3      DB01-5\n",
      "3         4      DB01-4\n",
      "4         5      DB01-3\n",
      "5         6      DB01-2\n",
      "6         7      DB01-1\n",
      "7         8      DB01-0\n",
      " DB01-6\n",
      "C:\\Users\\dominikbenz.DASTUD\\Surfdrive\\PhD (Photocatalysis for water treatment)\\(1) EXPERIMENTS\\Python\\photocat_test_python\\RawData_20191023\\WLData1\\ DB01-6.csv\n"
     ]
    }
   ],
   "source": [
    "    #read in data correlation file\n",
    "corr_path=r\"C:\\Users\\dominikbenz.DASTUD\\Surfdrive\\PhD (Photocatalysis for water treatment)\\(1) EXPERIMENTS\\Python\\photocat_test_python\\RawData_20191023\\WLData1\\Data_correlation.txt\"\n",
    "my_corr=pd.read_csv(corr_path, sep=',', names=[\"original\", \"Sample_name\"])\n",
    "print(my_corr)\n",
    "    # generate exporting path\n",
    "exp_name=my_corr.Sample_name[my_corr.original==2].item()\n",
    "print (exp_name)\n",
    "exp_path=r\"C:\\Users\\dominikbenz.DASTUD\\Surfdrive\\PhD (Photocatalysis for water treatment)\\(1) EXPERIMENTS\\Python\\photocat_test_python\\RawData_20191023\\WLData1\\{}.csv\".format(exp_name)\n",
    "print(exp_path)\n",
    "#my_data.to_csv(exp_path)"
   ]
  },
  {
   "cell_type": "code",
   "execution_count": 171,
   "metadata": {},
   "outputs": [
    {
     "name": "stdout",
     "output_type": "stream",
     "text": [
      "   original Sample_name  Time  Absorption\n",
      "0         1      DB01-7    50         0.5\n",
      "1         2      DB01-6    40         1.0\n",
      "2         3      DB01-5    30         1.5\n",
      "3         4      DB01-4    25         3.0\n",
      "4         5      DB01-3    20         6.0\n",
      "5         6      DB01-2    10        12.0\n",
      "6         7      DB01-1     5        25.0\n",
      "7         8      DB01-0     0        50.0\n"
     ]
    },
    {
     "data": {
      "text/plain": [
       "<matplotlib.axes._subplots.AxesSubplot at 0x13fa058b208>"
      ]
     },
     "execution_count": 171,
     "metadata": {},
     "output_type": "execute_result"
    },
    {
     "data": {
      "image/png": "[encoded data removed]",
      "text/plain": [
       "<Figure size 432x288 with 1 Axes>"
      ]
     },
     "metadata": {
      "needs_background": "light"
     },
     "output_type": "display_data"
    }
   ],
   "source": [
    "    #correlating absorption data with \n",
    "corr_path=r\"C:\\Users\\dominikbenz.DASTUD\\Surfdrive\\PhD (Photocatalysis for water treatment)\\(1) EXPERIMENTS\\Python\\photocat_test_python\\RawData_20191023\\WLData1\\Data_correlation.txt\"\n",
    "my_corr=pd.read_csv(corr_path, sep=',', names=[\"original\", \"Sample_name\", \"Time\"])\n",
    "#x is dummydata for abbsorption values at 629 nm\n",
    "x=[0.5,1,1.5,3,6,12,25,50]\n",
    "my_corr['Absorption']=x\n",
    "\n",
    "print(my_corr) \n",
    "my_corr.plot(x =\"Time\", y=\"Absorption\", kind =\"scatter\")"
   ]
  },
  {
   "cell_type": "code",
   "execution_count": 172,
   "metadata": {},
   "outputs": [
    {
     "name": "stdout",
     "output_type": "stream",
     "text": [
      "[0.0, -0.6931471805599453, -1.0986122886681098, -1.791759469228055, -2.4849066497880004, -3.1780538303479458, -3.912023005428146, -4.605170185988091]\n"
     ]
    }
   ],
   "source": [
    "import numpy as np\n",
    "    #calculate ln\n",
    "ln_series=[]\n",
    "for a in my_corr.Absorption:\n",
    "    ln_data=np.log(my_corr.Absorption[0]/a)\n",
    "    ln_series.append(float(ln_data))\n",
    "    \n",
    "    #implement ln_series in data file\n",
    "my_corr['ln']=ln_series\n",
    "    #plot ln vs time\n",
    "my_corr.plot(x =\"Time\", y=\"ln\", kind =\"scatter\")"
   ]
  },
  {
   "cell_type": "code",
   "execution_count": 180,
   "metadata": {},
   "outputs": [
    {
     "ename": "IndexingError",
     "evalue": "Too many indexers",
     "output_type": "error",
     "traceback": [
      "\u001b[1;31m---------------------------------------------------------------------------\u001b[0m",
      "\u001b[1;31mIndexingError\u001b[0m                             Traceback (most recent call last)",
      "\u001b[1;32m<ipython-input-180-10356a3d47a2>\u001b[0m in \u001b[0;36m<module>\u001b[1;34m\u001b[0m\n\u001b[0;32m      1\u001b[0m \u001b[1;32mfrom\u001b[0m \u001b[0msklearn\u001b[0m\u001b[1;33m.\u001b[0m\u001b[0mlinear_model\u001b[0m \u001b[1;32mimport\u001b[0m \u001b[0mLinearRegression\u001b[0m\u001b[1;33m\u001b[0m\u001b[1;33m\u001b[0m\u001b[0m\n\u001b[1;32m----> 2\u001b[1;33m \u001b[0mX\u001b[0m \u001b[1;33m=\u001b[0m \u001b[0mmy_corr\u001b[0m\u001b[1;33m.\u001b[0m\u001b[0mTime\u001b[0m\u001b[1;33m.\u001b[0m\u001b[0miloc\u001b[0m\u001b[1;33m[\u001b[0m\u001b[1;33m:\u001b[0m\u001b[1;33m,\u001b[0m \u001b[1;36m0\u001b[0m\u001b[1;33m]\u001b[0m\u001b[1;33m.\u001b[0m\u001b[0mvalues\u001b[0m\u001b[1;33m.\u001b[0m\u001b[0mreshape\u001b[0m\u001b[1;33m(\u001b[0m\u001b[1;33m-\u001b[0m\u001b[1;36m1\u001b[0m\u001b[1;33m,\u001b[0m \u001b[1;36m1\u001b[0m\u001b[1;33m)\u001b[0m  \u001b[1;31m# values converts it into a numpy array\u001b[0m\u001b[1;33m\u001b[0m\u001b[1;33m\u001b[0m\u001b[0m\n\u001b[0m\u001b[0;32m      3\u001b[0m \u001b[0mY\u001b[0m \u001b[1;33m=\u001b[0m \u001b[0mmy_corr\u001b[0m\u001b[1;33m.\u001b[0m\u001b[0mln\u001b[0m\u001b[1;33m.\u001b[0m\u001b[0miloc\u001b[0m\u001b[1;33m[\u001b[0m\u001b[1;33m:\u001b[0m\u001b[1;33m,\u001b[0m \u001b[1;36m1\u001b[0m\u001b[1;33m]\u001b[0m\u001b[1;33m.\u001b[0m\u001b[0mvalues\u001b[0m\u001b[1;33m.\u001b[0m\u001b[0mreshape\u001b[0m\u001b[1;33m(\u001b[0m\u001b[1;33m-\u001b[0m\u001b[1;36m1\u001b[0m\u001b[1;33m,\u001b[0m \u001b[1;36m1\u001b[0m\u001b[1;33m)\u001b[0m  \u001b[1;31m# -1 means that calculate the dimension of rows, but have 1 column\u001b[0m\u001b[1;33m\u001b[0m\u001b[1;33m\u001b[0m\u001b[0m\n\u001b[0;32m      4\u001b[0m \u001b[0mlinear_regressor\u001b[0m \u001b[1;33m=\u001b[0m \u001b[0mLinearRegression\u001b[0m\u001b[1;33m(\u001b[0m\u001b[1;33m)\u001b[0m\u001b[1;33m\u001b[0m\u001b[1;33m\u001b[0m\u001b[0m\n\u001b[0;32m      5\u001b[0m \u001b[0mlinear_regressor\u001b[0m\u001b[1;33m.\u001b[0m\u001b[0mfit\u001b[0m\u001b[1;33m(\u001b[0m\u001b[0mX\u001b[0m\u001b[1;33m,\u001b[0m \u001b[0mY\u001b[0m\u001b[1;33m)\u001b[0m\u001b[1;33m\u001b[0m\u001b[1;33m\u001b[0m\u001b[0m\n",
      "\u001b[1;32m~\\AppData\\Local\\Continuum\\anaconda3\\lib\\site-packages\\pandas\\core\\indexing.py\u001b[0m in \u001b[0;36m__getitem__\u001b[1;34m(self, key)\u001b[0m\n\u001b[0;32m   1470\u001b[0m             \u001b[1;32mexcept\u001b[0m \u001b[1;33m(\u001b[0m\u001b[0mKeyError\u001b[0m\u001b[1;33m,\u001b[0m \u001b[0mIndexError\u001b[0m\u001b[1;33m)\u001b[0m\u001b[1;33m:\u001b[0m\u001b[1;33m\u001b[0m\u001b[1;33m\u001b[0m\u001b[0m\n\u001b[0;32m   1471\u001b[0m                 \u001b[1;32mpass\u001b[0m\u001b[1;33m\u001b[0m\u001b[1;33m\u001b[0m\u001b[0m\n\u001b[1;32m-> 1472\u001b[1;33m             \u001b[1;32mreturn\u001b[0m \u001b[0mself\u001b[0m\u001b[1;33m.\u001b[0m\u001b[0m_getitem_tuple\u001b[0m\u001b[1;33m(\u001b[0m\u001b[0mkey\u001b[0m\u001b[1;33m)\u001b[0m\u001b[1;33m\u001b[0m\u001b[1;33m\u001b[0m\u001b[0m\n\u001b[0m\u001b[0;32m   1473\u001b[0m         \u001b[1;32melse\u001b[0m\u001b[1;33m:\u001b[0m\u001b[1;33m\u001b[0m\u001b[1;33m\u001b[0m\u001b[0m\n\u001b[0;32m   1474\u001b[0m             \u001b[1;31m# we by definition only have the 0th axis\u001b[0m\u001b[1;33m\u001b[0m\u001b[1;33m\u001b[0m\u001b[1;33m\u001b[0m\u001b[0m\n",
      "\u001b[1;32m~\\AppData\\Local\\Continuum\\anaconda3\\lib\\site-packages\\pandas\\core\\indexing.py\u001b[0m in \u001b[0;36m_getitem_tuple\u001b[1;34m(self, tup)\u001b[0m\n\u001b[0;32m   2011\u001b[0m     \u001b[1;32mdef\u001b[0m \u001b[0m_getitem_tuple\u001b[0m\u001b[1;33m(\u001b[0m\u001b[0mself\u001b[0m\u001b[1;33m,\u001b[0m \u001b[0mtup\u001b[0m\u001b[1;33m)\u001b[0m\u001b[1;33m:\u001b[0m\u001b[1;33m\u001b[0m\u001b[1;33m\u001b[0m\u001b[0m\n\u001b[0;32m   2012\u001b[0m \u001b[1;33m\u001b[0m\u001b[0m\n\u001b[1;32m-> 2013\u001b[1;33m         \u001b[0mself\u001b[0m\u001b[1;33m.\u001b[0m\u001b[0m_has_valid_tuple\u001b[0m\u001b[1;33m(\u001b[0m\u001b[0mtup\u001b[0m\u001b[1;33m)\u001b[0m\u001b[1;33m\u001b[0m\u001b[1;33m\u001b[0m\u001b[0m\n\u001b[0m\u001b[0;32m   2014\u001b[0m         \u001b[1;32mtry\u001b[0m\u001b[1;33m:\u001b[0m\u001b[1;33m\u001b[0m\u001b[1;33m\u001b[0m\u001b[0m\n\u001b[0;32m   2015\u001b[0m             \u001b[1;32mreturn\u001b[0m \u001b[0mself\u001b[0m\u001b[1;33m.\u001b[0m\u001b[0m_getitem_lowerdim\u001b[0m\u001b[1;33m(\u001b[0m\u001b[0mtup\u001b[0m\u001b[1;33m)\u001b[0m\u001b[1;33m\u001b[0m\u001b[1;33m\u001b[0m\u001b[0m\n",
      "\u001b[1;32m~\\AppData\\Local\\Continuum\\anaconda3\\lib\\site-packages\\pandas\\core\\indexing.py\u001b[0m in \u001b[0;36m_has_valid_tuple\u001b[1;34m(self, key)\u001b[0m\n\u001b[0;32m    218\u001b[0m         \u001b[1;32mfor\u001b[0m \u001b[0mi\u001b[0m\u001b[1;33m,\u001b[0m \u001b[0mk\u001b[0m \u001b[1;32min\u001b[0m \u001b[0menumerate\u001b[0m\u001b[1;33m(\u001b[0m\u001b[0mkey\u001b[0m\u001b[1;33m)\u001b[0m\u001b[1;33m:\u001b[0m\u001b[1;33m\u001b[0m\u001b[1;33m\u001b[0m\u001b[0m\n\u001b[0;32m    219\u001b[0m             \u001b[1;32mif\u001b[0m \u001b[0mi\u001b[0m \u001b[1;33m>=\u001b[0m \u001b[0mself\u001b[0m\u001b[1;33m.\u001b[0m\u001b[0mobj\u001b[0m\u001b[1;33m.\u001b[0m\u001b[0mndim\u001b[0m\u001b[1;33m:\u001b[0m\u001b[1;33m\u001b[0m\u001b[1;33m\u001b[0m\u001b[0m\n\u001b[1;32m--> 220\u001b[1;33m                 \u001b[1;32mraise\u001b[0m \u001b[0mIndexingError\u001b[0m\u001b[1;33m(\u001b[0m\u001b[1;34m'Too many indexers'\u001b[0m\u001b[1;33m)\u001b[0m\u001b[1;33m\u001b[0m\u001b[1;33m\u001b[0m\u001b[0m\n\u001b[0m\u001b[0;32m    221\u001b[0m             \u001b[1;32mtry\u001b[0m\u001b[1;33m:\u001b[0m\u001b[1;33m\u001b[0m\u001b[1;33m\u001b[0m\u001b[0m\n\u001b[0;32m    222\u001b[0m                 \u001b[0mself\u001b[0m\u001b[1;33m.\u001b[0m\u001b[0m_validate_key\u001b[0m\u001b[1;33m(\u001b[0m\u001b[0mk\u001b[0m\u001b[1;33m,\u001b[0m \u001b[0mi\u001b[0m\u001b[1;33m)\u001b[0m\u001b[1;33m\u001b[0m\u001b[1;33m\u001b[0m\u001b[0m\n",
      "\u001b[1;31mIndexingError\u001b[0m: Too many indexers"
     ]
    }
   ],
   "source": [
    "from sklearn.linear_model import LinearRegression\n",
    "X = my_corr.Time.iloc[:, 0].values.reshape(-1, 1)  # values converts it into a numpy array\n",
    "Y = my_corr.ln.iloc[:, 1].values.reshape(-1, 1)  # -1 means that calculate the dimension of rows, but have 1 column\n",
    "linear_regressor = LinearRegression()\n",
    "linear_regressor.fit(X, Y)"
   ]
  },
  {
   "cell_type": "code",
   "execution_count": null,
   "metadata": {},
   "outputs": [],
   "source": []
  }
 ],
 "metadata": {
  "kernelspec": {
   "display_name": "Python 3",
   "language": "python",
   "name": "python3"
  },
  "language_info": {
   "codemirror_mode": {
    "name": "ipython",
    "version": 3
   },
   "file_extension": ".py",
   "mimetype": "text/x-python",
   "name": "python",
   "nbconvert_exporter": "python",
   "pygments_lexer": "ipython3",
   "version": "3.7.1"
  }
 },
 "nbformat": 4,
 "nbformat_minor": 2
}
