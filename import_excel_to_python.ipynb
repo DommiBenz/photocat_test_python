{
 "cells": [
  {
   "cell_type": "code",
   "execution_count": 4,
   "metadata": {},
   "outputs": [
    {
     "name": "stdout",
     "output_type": "stream",
     "text": [
      "     wavelength  absorption\n",
      "0         500.0       0.035\n",
      "1         501.0       0.036\n",
      "2         502.0       0.036\n",
      "3         503.0       0.037\n",
      "4         504.0       0.037\n",
      "5         505.0       0.038\n",
      "6         506.0       0.039\n",
      "7         507.0       0.040\n",
      "8         508.0       0.040\n",
      "9         509.0       0.041\n",
      "10        510.0       0.042\n",
      "11        511.0       0.043\n",
      "12        512.0       0.044\n",
      "13        513.0       0.045\n",
      "14        514.0       0.046\n",
      "15        515.0       0.047\n",
      "16        516.0       0.048\n",
      "17        517.0       0.050\n",
      "18        518.0       0.051\n",
      "19        519.0       0.052\n",
      "20        520.0       0.053\n",
      "21        521.0       0.055\n",
      "22        522.0       0.056\n",
      "23        523.0       0.058\n",
      "24        524.0       0.059\n",
      "25        525.0       0.061\n",
      "26        526.0       0.062\n",
      "27        527.0       0.064\n",
      "28        528.0       0.066\n",
      "29        529.0       0.067\n",
      "..          ...         ...\n",
      "171       671.0       0.050\n",
      "172       672.0       0.046\n",
      "173       673.0       0.042\n",
      "174       674.0       0.039\n",
      "175       675.0       0.036\n",
      "176       676.0       0.033\n",
      "177       677.0       0.030\n",
      "178       678.0       0.028\n",
      "179       679.0       0.026\n",
      "180       680.0       0.024\n",
      "181       681.0       0.022\n",
      "182       682.0       0.021\n",
      "183       683.0       0.019\n",
      "184       684.0       0.018\n",
      "185       685.0       0.017\n",
      "186       686.0       0.016\n",
      "187       687.0       0.015\n",
      "188       688.0       0.014\n",
      "189       689.0       0.013\n",
      "190       690.0       0.013\n",
      "191       691.0       0.014\n",
      "192       692.0       0.014\n",
      "193       693.0       0.013\n",
      "194       694.0       0.012\n",
      "195       695.0       0.012\n",
      "196       696.0       0.012\n",
      "197       697.0       0.011\n",
      "198       698.0       0.011\n",
      "199       699.0       0.011\n",
      "200       700.0       0.010\n",
      "\n",
      "[201 rows x 2 columns]\n"
     ]
    },
    {
     "name": "stderr",
     "output_type": "stream",
     "text": [
      "C:\\Users\\dominikbenz.DASTUD\\AppData\\Local\\Continuum\\anaconda3\\lib\\site-packages\\ipykernel_launcher.py:3: ParserWarning: Falling back to the 'python' engine because the 'c' engine does not support regex separators (separators > 1 char and different from '\\s+' are interpreted as regex); you can avoid this warning by specifying engine='python'.\n",
      "  This is separate from the ipykernel package so we can avoid doing imports until\n"
     ]
    },
    {
     "data": {
      "text/plain": [
       "<matplotlib.axes._subplots.AxesSubplot at 0x202ed644cc0>"
      ]
     },
     "execution_count": 4,
     "metadata": {},
     "output_type": "execute_result"
    },
    {
     "data": {
      "image/png": "[encoded data removed]",
      "text/plain": [
       "<Figure size 432x288 with 1 Axes>"
      ]
     },
     "metadata": {
      "needs_background": "light"
     },
     "output_type": "display_data"
    }
   ],
   "source": [
    "filename=r\"C:\\Users\\dominikbenz.DASTUD\\Surfdrive\\PhD (Photocatalysis for water treatment)\\(1) EXPERIMENTS\\Python\\photocat_test_python\\RawData_20191023\\WLData2\\ScanData_2.csv\"\n",
    "import pandas as pd\n",
    "my_data=pd.read_csv(filename, sep=', ', skiprows=10 , encoding='utf16', names=[\"wavelength\", \"absorption\"])\n",
    "mod_abs=[]\n",
    "for a in my_data.absorption:\n",
    "      \n",
    "    if ',' in a:\n",
    "        a=(a[:a.find(',')])\n",
    "    else:\n",
    "        a=a    \n",
    "    mod_abs.append(float(a))\n",
    "     \n",
    "my_data.absorption=mod_abs\n",
    "print(my_data)\n",
    "my_data.plot(x =\"wavelength\", y=\"absorption\", kind =\"scatter\")"
   ]
  },
  {
   "cell_type": "code",
   "execution_count": 18,
   "metadata": {},
   "outputs": [
    {
     "ename": "IndentationError",
     "evalue": "unexpected indent (<ipython-input-18-d3b614607d58>, line 3)",
     "output_type": "error",
     "traceback": [
      "\u001b[1;36m  File \u001b[1;32m\"<ipython-input-18-d3b614607d58>\"\u001b[1;36m, line \u001b[1;32m3\u001b[0m\n\u001b[1;33m    df_name['Abs'] = df_name['Abs'].astype(float)\u001b[0m\n\u001b[1;37m    ^\u001b[0m\n\u001b[1;31mIndentationError\u001b[0m\u001b[1;31m:\u001b[0m unexpected indent\n"
     ]
    }
   ],
   "source": [
    "file_name= \"C:\\Users\\dominikbenz.DASTUD\\Surfdrive\\PhD (Photocatalysis for water treatment)\\(1) EXPERIMENTS\\Python\"\n",
    "df_name = pd.read_csv(file_name, skiprows=9, encoding='utf16', error_bad_lines=False, sep=',', engine='python')\n",
    "    df_name['Abs'] = df_name['Abs'].astype(float)\n",
    "    \n",
    "my_data.plot(x =\"wavelength\", y=\"absorption\", kind =\"line\")"
   ]
  },
  {
   "cell_type": "code",
   "execution_count": null,
   "metadata": {},
   "outputs": [],
   "source": []
  }
 ],
 "metadata": {
  "kernelspec": {
   "display_name": "Python 3",
   "language": "python",
   "name": "python3"
  },
  "language_info": {
   "codemirror_mode": {
    "name": "ipython",
    "version": 3
   },
   "file_extension": ".py",
   "mimetype": "text/x-python",
   "name": "python",
   "nbconvert_exporter": "python",
   "pygments_lexer": "ipython3",
   "version": "3.7.1"
  }
 },
 "nbformat": 4,
 "nbformat_minor": 2
}
